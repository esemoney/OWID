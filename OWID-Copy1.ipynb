{
 "cells": [
  {
   "cell_type": "markdown",
   "id": "d68526d0",
   "metadata": {},
   "source": [
    "# Analyzing the Effects of COPD: A Comparative Study of the United States and Uganda\n",
    "\n",
    "## Introduction\n",
    "\n",
    "Chronic Obstructive Pulmonary Disease (COPD) is a progressive respiratory condition with a significant global health burden. Understanding its impact across countries is crucial for informing public health policies. This analysis compares the burden of COPD in the United States and Uganda by calculating crude and age-standardized death rates.\n",
    "\n",
    "The crude death rate is a basic measure of mortality, indicating the total number of COPD deaths per 100,000 population. However, it does not account for differences in population age structures, which can distort comparisons due to age being a primary COPD risk factor.\n",
    "\n",
    "Age-standardization addresses this limitation by calculating age-specific mortality rates and taking a weighted average using the World Health Organization's (WHO) standard population. This approach removes the influence of age distribution, enabling a fair comparison of COPD mortality risk between countries.\n",
    "\n",
    "By utilizing age-standardization, this analysis aims to assess whether the United States or Uganda exhibits a higher COPD mortality risk when age is not a confounding factor. This study leverages data from the UN World Population Prospects, WHO Standard Population, and age-specific COPD death rates for 2019.\n",
    "\n",
    "The objective is to calculate and compare the crude and age-standardized COPD death rates for the United States and Uganda, providing insights into the relative burden of COPD in each country while highlighting the importance of age-standardization in epidemiological analyses."
   ]
  },
  {
   "cell_type": "code",
   "execution_count": 1,
   "id": "774da238",
   "metadata": {},
   "outputs": [],
   "source": [
    "import pandas as pd\n",
    "\n",
    "import os\n"
   ]
  },
  {
   "cell_type": "code",
   "execution_count": 2,
   "id": "29a7c704",
   "metadata": {},
   "outputs": [],
   "source": [
    "# load data sources urls\n",
    "\n",
    "UN_POPULATION_PROSPECTS = 'input\\WPP2022_POPULATION_5-YEAR_AGE_GROUPS_BOTH_SEXES.xlsx'\n",
    "WHO_STANDARD_POPULATION_TABLE = 'input\\Table 1.xlsx'\n",
    "AGE_SPECIFIC_COPD_DEATH_RATES = 'input\\COPD_death_rates.xlsx'\n"
   ]
  },
  {
   "cell_type": "code",
   "execution_count": 3,
   "id": "1df4168d",
   "metadata": {},
   "outputs": [
    {
     "name": "stdout",
     "output_type": "stream",
     "text": [
      "TABLE: UN World Population Prospects:\n",
      "   Index    Variant Region, subregion, country or area * Notes  Location code  \\\n",
      "0      1  Estimates                                WORLD   NaN            900   \n",
      "1      2  Estimates                                WORLD   NaN            900   \n",
      "2      3  Estimates                                WORLD   NaN            900   \n",
      "3      4  Estimates                                WORLD   NaN            900   \n",
      "4      5  Estimates                                WORLD   NaN            900   \n",
      "\n",
      "  ISO3 Alpha-code ISO2 Alpha-code  SDMX code**   Type  Parent code  ...  \\\n",
      "0             NaN             NaN          1.0  World            0  ...   \n",
      "1             NaN             NaN          1.0  World            0  ...   \n",
      "2             NaN             NaN          1.0  World            0  ...   \n",
      "3             NaN             NaN          1.0  World            0  ...   \n",
      "4             NaN             NaN          1.0  World            0  ...   \n",
      "\n",
      "        55-59       60-64       65-69       70-74       75-79       80-84  \\\n",
      "0   85393.634  70796.6355   53122.984    36652.55   22440.709   10870.494   \n",
      "1  87045.7935  71417.9795   53923.774  37034.4615  22701.1225  10913.2255   \n",
      "2  89000.4945   71930.168  54969.3695  37521.5325   22937.171  11036.6195   \n",
      "3   91230.957  72475.1835   56236.375   38144.896  23140.1195   11245.749   \n",
      "4  93357.6225  73358.0965   57461.302   38867.149  23379.9635   11452.133   \n",
      "\n",
      "       85-89     90-94     95-99     100+  \n",
      "0   3977.119  969.3095  159.9325   14.469  \n",
      "1   3958.666  966.8275   147.466   15.671  \n",
      "2   3956.967  966.5605  144.5635  16.1695  \n",
      "3  3973.4965   972.536   144.159   16.048  \n",
      "4  4021.7115   982.418   145.427   15.426  \n",
      "\n",
      "[5 rows x 32 columns]\n",
      "\n",
      "TABLE: WHO Standard Population:\n",
      "  Age Group  Segi (\"world\") Standard  Scandinavian (\"European\") Standard  \\\n",
      "0       0-4                     12.0                                   8   \n",
      "1       5-9                     10.0                                   7   \n",
      "2     10-14                      9.0                                   7   \n",
      "3     15-19                      9.0                                   7   \n",
      "4     20-24                      8.0                                   7   \n",
      "\n",
      "   WHO World Standard*  \n",
      "0                 8.86  \n",
      "1                 8.69  \n",
      "2                 8.60  \n",
      "3                 8.47  \n",
      "4                 8.22  \n",
      "\n",
      "TABLE Age-specific COPD Death Rates:\n",
      "  Age group (years)  Death rate, United States, 2019  Death rate, Uganda, 2019\n",
      "0               0-4                             0.04                      0.40\n",
      "1               5-9                             0.02                      0.17\n",
      "2             10-14                             0.02                      0.07\n",
      "3             15-19                             0.02                      0.23\n",
      "4             20-24                             0.06                      0.38\n"
     ]
    }
   ],
   "source": [
    "# Load UN World Population Prospects data\n",
    "un_population = pd.read_excel(UN_POPULATION_PROSPECTS)\n",
    "print(\"TABLE: UN World Population Prospects:\")\n",
    "print(un_population.head())  # Display the first few rows\n",
    "\n",
    "\n",
    "# Load WHO Standard Population data\n",
    "who_standard = pd.read_excel(WHO_STANDARD_POPULATION_TABLE)\n",
    "print(\"\\nTABLE: WHO Standard Population:\")\n",
    "print(who_standard.head())\n",
    "\n",
    "# Load age-specific COPD death rates data\n",
    "copd_rates = pd.read_excel(AGE_SPECIFIC_COPD_DEATH_RATES)\n",
    "print(\"\\nTABLE Age-specific COPD Death Rates:\")\n",
    "print(copd_rates.head())\n"
   ]
  },
  {
   "cell_type": "markdown",
   "id": "3e962d46",
   "metadata": {},
   "source": [
    " The UN World Population Prospects data contains population estimates for multiple countries and regions.\n",
    "\n",
    "On exploring the Excel file, we find that the estimates data is grouped by continent and sub-regions within continents.\n",
    "\n",
    "Under each continent's subregions, there are entries for each country, and each country has a unique identifier - the location code.\n",
    "\n",
    "From exploring the spreadsheet, we identify the location code for Uganda to be 800 and for the United States to be 840.\n",
    "\n",
    "Additionally, we find that all Uganda entries are from index 2885 to index 2956, and all United States entries are from index 18437 to index 18508.\n",
    "\n",
    "To narrow down our data, we filter for Uganda and the United States specifically."
   ]
  },
  {
   "cell_type": "code",
   "execution_count": 4,
   "id": "3f02decd",
   "metadata": {},
   "outputs": [
    {
     "name": "stdout",
     "output_type": "stream",
     "text": [
      "Uganda Population:\n",
      "      Index    Variant Region, subregion, country or area * Notes  \\\n",
      "2884   2885  Estimates                               Uganda   NaN   \n",
      "2885   2886  Estimates                               Uganda   NaN   \n",
      "2886   2887  Estimates                               Uganda   NaN   \n",
      "2887   2888  Estimates                               Uganda   NaN   \n",
      "2888   2889  Estimates                               Uganda   NaN   \n",
      "...     ...        ...                                  ...   ...   \n",
      "2951   2952  Estimates                               Uganda   NaN   \n",
      "2952   2953  Estimates                               Uganda   NaN   \n",
      "2953   2954  Estimates                               Uganda   NaN   \n",
      "2954   2955  Estimates                               Uganda   NaN   \n",
      "2955   2956  Estimates                               Uganda   NaN   \n",
      "\n",
      "      Location code ISO3 Alpha-code ISO2 Alpha-code  SDMX code**  \\\n",
      "2884            800             UGA              UG        800.0   \n",
      "2885            800             UGA              UG        800.0   \n",
      "2886            800             UGA              UG        800.0   \n",
      "2887            800             UGA              UG        800.0   \n",
      "2888            800             UGA              UG        800.0   \n",
      "...             ...             ...             ...          ...   \n",
      "2951            800             UGA              UG        800.0   \n",
      "2952            800             UGA              UG        800.0   \n",
      "2953            800             UGA              UG        800.0   \n",
      "2954            800             UGA              UG        800.0   \n",
      "2955            800             UGA              UG        800.0   \n",
      "\n",
      "              Type  Parent code  ...     55-59     60-64     65-69     70-74  \\\n",
      "2884  Country/Area          910  ...   97.5995    70.217   60.5585    46.812   \n",
      "2885  Country/Area          910  ...   106.917    69.266   59.5025   46.2925   \n",
      "2886  Country/Area          910  ...  116.3285   69.3975    58.434   45.7055   \n",
      "2887  Country/Area          910  ...   125.305    71.074   57.3615    45.076   \n",
      "2888  Country/Area          910  ...  132.5565     75.54   56.3005   44.4225   \n",
      "...            ...          ...  ...       ...       ...       ...       ...   \n",
      "2951  Country/Area          910  ...   627.931  462.0545   321.735   166.376   \n",
      "2952  Country/Area          910  ...  656.2405   480.458   339.145  179.7795   \n",
      "2953  Country/Area          910  ...   687.315  500.2975  353.2215  197.1705   \n",
      "2954  Country/Area          910  ...  721.0835  520.8315  365.7335    214.88   \n",
      "2955  Country/Area          910  ...  757.2975  541.4295  378.2935   229.975   \n",
      "\n",
      "        75-79    80-84    85-89   90-94   95-99    100+  \n",
      "2884  30.9015  17.0865   7.1915   2.084   0.386   0.044  \n",
      "2885   30.829   17.074    7.193  2.0835   0.385   0.044  \n",
      "2886  30.7175   17.056   7.1855   2.081  0.3835  0.0435  \n",
      "2887   30.555   17.032    7.166  2.0775  0.3825   0.043  \n",
      "2888  30.3395  16.9955   7.1415  2.0745  0.3805   0.043  \n",
      "...       ...      ...      ...     ...     ...     ...  \n",
      "2951   90.591   44.224  15.1865   3.254  0.4455  0.0515  \n",
      "2952   91.149  44.0695   15.343   3.428   0.536  0.0755  \n",
      "2953   92.682   43.893  15.4255  3.5645  0.6165   0.096  \n",
      "2954  95.3835   43.561   15.311  3.6195   0.657  0.1095  \n",
      "2955   98.806  42.8585   14.847  3.5285   0.628    0.11  \n",
      "\n",
      "[72 rows x 32 columns]\n",
      "\n",
      "US Population:\n",
      "       Index    Variant Region, subregion, country or area * Notes  \\\n",
      "18436  18437  Estimates             United States of America    30   \n",
      "18437  18438  Estimates             United States of America    30   \n",
      "18438  18439  Estimates             United States of America    30   \n",
      "18439  18440  Estimates             United States of America    30   \n",
      "18440  18441  Estimates             United States of America    30   \n",
      "...      ...        ...                                  ...   ...   \n",
      "18503  18504  Estimates             United States of America    30   \n",
      "18504  18505  Estimates             United States of America    30   \n",
      "18505  18506  Estimates             United States of America    30   \n",
      "18506  18507  Estimates             United States of America    30   \n",
      "18507  18508  Estimates             United States of America    30   \n",
      "\n",
      "       Location code ISO3 Alpha-code ISO2 Alpha-code  SDMX code**  \\\n",
      "18436            840             USA              US        840.0   \n",
      "18437            840             USA              US        840.0   \n",
      "18438            840             USA              US        840.0   \n",
      "18439            840             USA              US        840.0   \n",
      "18440            840             USA              US        840.0   \n",
      "...              ...             ...             ...          ...   \n",
      "18503            840             USA              US        840.0   \n",
      "18504            840             USA              US        840.0   \n",
      "18505            840             USA              US        840.0   \n",
      "18506            840             USA              US        840.0   \n",
      "18507            840             USA              US        840.0   \n",
      "\n",
      "               Type  Parent code  ...       55-59       60-64       65-69  \\\n",
      "18436  Country/Area          905  ...    7149.789   5982.8355   4929.7305   \n",
      "18437  Country/Area          905  ...    7181.899    6115.749    5077.481   \n",
      "18438  Country/Area          905  ...   7258.2655    6222.884    5203.467   \n",
      "18439  Country/Area          905  ...   7511.0615   6272.6025    5326.999   \n",
      "18440  Country/Area          905  ...    7689.412    6362.894    5449.389   \n",
      "...             ...          ...  ...         ...         ...         ...   \n",
      "18503  Country/Area          905  ...  22291.4525  20130.0755  16485.4325   \n",
      "18504  Country/Area          905  ...  22338.2735    20600.48   16807.719   \n",
      "18505  Country/Area          905  ...  22347.5005  20941.0635  17500.8715   \n",
      "18506  Country/Area          905  ...  22187.3155  21179.3385   18402.248   \n",
      "18507  Country/Area          905  ...  21795.0635  21330.2325   18768.581   \n",
      "\n",
      "            70-74      75-79      80-84      85-89      90-94     95-99  \\\n",
      "18436   3376.8675   2112.206   1137.104   425.7405    118.051    20.566   \n",
      "18437   3482.4775  2195.5905   1187.332    444.763    125.666   21.4555   \n",
      "18438    3603.175  2276.8605  1236.3935   469.0095     132.14   22.3935   \n",
      "18439    3737.632   2356.057  1286.8235   495.2205    137.198    23.517   \n",
      "18440    3887.199  2436.0425   1337.347     525.91    142.552   25.1465   \n",
      "...           ...        ...        ...        ...        ...       ...   \n",
      "18503   12548.438  8510.3385   5979.821  3890.6125   1720.036  478.4935   \n",
      "18504  13207.8525  8906.9875    6027.82   3940.781  1674.5025   500.698   \n",
      "18505  13688.5955   9272.809  6118.8665  3977.1775   1656.067  501.7545   \n",
      "18506  14058.7655  9518.0705   6286.583   3941.386  1729.8015  479.7925   \n",
      "18507  14572.9195  10049.009  6444.1615  3951.7665  1839.4025  491.9025   \n",
      "\n",
      "          100+  \n",
      "18436    4.026  \n",
      "18437   3.7525  \n",
      "18438   3.5335  \n",
      "18439   3.4155  \n",
      "18440    3.401  \n",
      "...        ...  \n",
      "18503  74.1325  \n",
      "18504   75.558  \n",
      "18505   78.955  \n",
      "18506  84.5685  \n",
      "18507   89.739  \n",
      "\n",
      "[72 rows x 32 columns]\n"
     ]
    }
   ],
   "source": [
    "# Filter for Uganda and United States using location codes and make new dfs. Print them as well\n",
    "\n",
    "uganda_population = un_population[un_population['Location code'] == 800]\n",
    "us_population = un_population[un_population['Location code'] == 840]\n",
    "\n",
    "print(\"Uganda Population:\")\n",
    "print(uganda_population)\n",
    "\n",
    "print(\"\\nUS Population:\")\n",
    "print(us_population)"
   ]
  },
  {
   "cell_type": "markdown",
   "id": "678fb64f",
   "metadata": {},
   "source": [
    "### Filtering Population Data\n",
    "\n",
    "After we filter the UN World Population Prospects data for Uganda and the United States using their respective location codes (800 for Uganda and 840 for the United States). We then further filter this data to include only the entries for the year 2019, aligning with our analysis period."
   ]
  },
  {
   "cell_type": "code",
   "execution_count": 5,
   "id": "70499f6a",
   "metadata": {},
   "outputs": [],
   "source": [
    "\n",
    "\n",
    "# Further filter for the year 2019 if your dataset contains multiple years\n",
    "uganda_population_2019 = uganda_population[uganda_population['Year'] == 2019]\n",
    "us_population_2019 = us_population[us_population['Year'] == 2019]"
   ]
  },
  {
   "cell_type": "code",
   "execution_count": 6,
   "id": "d762e6eb",
   "metadata": {},
   "outputs": [
    {
     "name": "stdout",
     "output_type": "stream",
     "text": [
      "Uganda Population:\n",
      "      Index    Variant Region, subregion, country or area * Notes  \\\n",
      "2953   2954  Estimates                               Uganda   NaN   \n",
      "\n",
      "      Location code ISO3 Alpha-code ISO2 Alpha-code  SDMX code**  \\\n",
      "2953            800             UGA              UG        800.0   \n",
      "\n",
      "              Type  Parent code  ...    55-59     60-64     65-69     70-74  \\\n",
      "2953  Country/Area          910  ...  687.315  500.2975  353.2215  197.1705   \n",
      "\n",
      "       75-79   80-84    85-89   90-94   95-99   100+  \n",
      "2953  92.682  43.893  15.4255  3.5645  0.6165  0.096  \n",
      "\n",
      "[1 rows x 32 columns]\n",
      "\n",
      "US Population:\n",
      "       Index    Variant Region, subregion, country or area * Notes  \\\n",
      "18505  18506  Estimates             United States of America    30   \n",
      "\n",
      "       Location code ISO3 Alpha-code ISO2 Alpha-code  SDMX code**  \\\n",
      "18505            840             USA              US        840.0   \n",
      "\n",
      "               Type  Parent code  ...       55-59       60-64       65-69  \\\n",
      "18505  Country/Area          905  ...  22347.5005  20941.0635  17500.8715   \n",
      "\n",
      "            70-74     75-79      80-84      85-89     90-94     95-99    100+  \n",
      "18505  13688.5955  9272.809  6118.8665  3977.1775  1656.067  501.7545  78.955  \n",
      "\n",
      "[1 rows x 32 columns]\n"
     ]
    }
   ],
   "source": [
    "\n",
    "print(\"Uganda Population:\")\n",
    "print(uganda_population_2019)\n",
    "\n",
    "print(\"\\nUS Population:\")\n",
    "print(us_population_2019)"
   ]
  },
  {
   "cell_type": "markdown",
   "id": "c7e89f95",
   "metadata": {},
   "source": [
    "ok so now based off all we have - all data loaded in, filtered to uganda and us for 2019, (btw these are in separate data frames rn, do we merge them, yes or no?) table of of age-specific death rates of COPD for 2019 for uganda and us, table of Age standardization of rates: a new WHO standard \n",
    "\n",
    "what next? and with what tables??  .\n",
    "\n",
    "As a reminder, these are the data frames that we have \n",
    "\n",
    "\n",
    "\n",
    "1. print(copd_rates.head())\n",
    "2. print(who_standard.head())\n",
    "3. print(uganda_population_2019)\n",
    "4. print(us_population_2019)"
   ]
  },
  {
   "cell_type": "code",
   "execution_count": 7,
   "id": "40b313e2",
   "metadata": {},
   "outputs": [
    {
     "name": "stdout",
     "output_type": "stream",
     "text": [
      "  Age group (years)  Death rate, United States, 2019  Death rate, Uganda, 2019\n",
      "0               0-4                             0.04                      0.40\n",
      "1               5-9                             0.02                      0.17\n",
      "2             10-14                             0.02                      0.07\n",
      "3             15-19                             0.02                      0.23\n",
      "4             20-24                             0.06                      0.38\n"
     ]
    }
   ],
   "source": [
    "print(copd_rates.head())\n"
   ]
  },
  {
   "cell_type": "code",
   "execution_count": 8,
   "id": "e1ce4b1e",
   "metadata": {},
   "outputs": [
    {
     "name": "stdout",
     "output_type": "stream",
     "text": [
      "  Age Group  Segi (\"world\") Standard  Scandinavian (\"European\") Standard  \\\n",
      "0       0-4                     12.0                                   8   \n",
      "1       5-9                     10.0                                   7   \n",
      "2     10-14                      9.0                                   7   \n",
      "3     15-19                      9.0                                   7   \n",
      "4     20-24                      8.0                                   7   \n",
      "\n",
      "   WHO World Standard*  \n",
      "0                 8.86  \n",
      "1                 8.69  \n",
      "2                 8.60  \n",
      "3                 8.47  \n",
      "4                 8.22  \n"
     ]
    }
   ],
   "source": [
    "print(who_standard.head())"
   ]
  },
  {
   "cell_type": "code",
   "execution_count": 9,
   "id": "c1915ce3",
   "metadata": {},
   "outputs": [
    {
     "name": "stdout",
     "output_type": "stream",
     "text": [
      "      Index    Variant Region, subregion, country or area * Notes  \\\n",
      "2953   2954  Estimates                               Uganda   NaN   \n",
      "\n",
      "      Location code ISO3 Alpha-code ISO2 Alpha-code  SDMX code**  \\\n",
      "2953            800             UGA              UG        800.0   \n",
      "\n",
      "              Type  Parent code  ...    55-59     60-64     65-69     70-74  \\\n",
      "2953  Country/Area          910  ...  687.315  500.2975  353.2215  197.1705   \n",
      "\n",
      "       75-79   80-84    85-89   90-94   95-99   100+  \n",
      "2953  92.682  43.893  15.4255  3.5645  0.6165  0.096  \n",
      "\n",
      "[1 rows x 32 columns]\n"
     ]
    }
   ],
   "source": [
    "print(uganda_population_2019)"
   ]
  },
  {
   "cell_type": "code",
   "execution_count": 10,
   "id": "a462d6fe",
   "metadata": {},
   "outputs": [
    {
     "name": "stdout",
     "output_type": "stream",
     "text": [
      "       Index    Variant Region, subregion, country or area * Notes  \\\n",
      "18505  18506  Estimates             United States of America    30   \n",
      "\n",
      "       Location code ISO3 Alpha-code ISO2 Alpha-code  SDMX code**  \\\n",
      "18505            840             USA              US        840.0   \n",
      "\n",
      "               Type  Parent code  ...       55-59       60-64       65-69  \\\n",
      "18505  Country/Area          905  ...  22347.5005  20941.0635  17500.8715   \n",
      "\n",
      "            70-74     75-79      80-84      85-89     90-94     95-99    100+  \n",
      "18505  13688.5955  9272.809  6118.8665  3977.1775  1656.067  501.7545  78.955  \n",
      "\n",
      "[1 rows x 32 columns]\n"
     ]
    }
   ],
   "source": [
    "print(us_population_2019)"
   ]
  },
  {
   "cell_type": "markdown",
   "id": "4d6bc262",
   "metadata": {},
   "source": [
    "now let's proceed with specific, tailored steps to calculate the crude and age-standardized COPD death rates for Uganda and the United States for the year 2019. \n",
    "\n",
    "We'll use the filtered population data for 2019 (uganda_population_2019 and us_population_2019), the age-specific COPD death rates (which I'll assume are contained in a similar structured DataFrame as your population data, let's call it copd_death_rates_2019), and the WHO standard population 1.\n",
    "\n",
    "\n",
    "---\n",
    "\n",
    "so tl dr\n",
    "\n",
    "1. uganda_population_2019\n",
    "2. us_population_2019\n",
    "3. copd_rates\n",
    "4. who_standard"
   ]
  },
  {
   "cell_type": "markdown",
   "id": "2de63e22",
   "metadata": {},
   "source": [
    "now, \n",
    "First,we ensure and cross check that we  have the COPD death rates for 2019 for both countries, structured similarly to your population data, with age groups as columns\n",
    "\n",
    "we do"
   ]
  },
  {
   "cell_type": "markdown",
   "id": "3bf6c827",
   "metadata": {},
   "source": [
    "Given that the age groups in copd_rates and who_standard match exactly and both stop at the \"85+\" entry, while the Ugandan and US population data for 2019 includes age values up to \"95-99\", we'll need to adjust the population data to align with the age groups used in the COPD death rates and WHO standard population data. This adjustment ensures that our calculations for both crude and age-standardized death rates are based on comparable age groupings.\n",
    "\n",
    "so we align the population data with the COPD death rates and WHO standard, we aggregate the population counts from the \"85+\" age group onwards in the Ugandan and US population data into a single \"85+\" category. This aggregation will allow us to directly compare and calculate the death rates using the WHO standard population, as well as the copd_rates which also ends at \"85+\"."
   ]
  },
  {
   "cell_type": "code",
   "execution_count": 13,
   "id": "549b0e81",
   "metadata": {},
   "outputs": [],
   "source": [
    " \n",
    "def adjust_population_data(population_data):\n",
    "    \"\"\"\n",
    "    Adjusts the population data by summing the populations of the age groups\n",
    "    beyond \"85+\" into a single \"85+\" category and dropping the unnecessary\n",
    "    columns.\n",
    "\n",
    "    Args:\n",
    "        population_data (pd.DataFrame): The population data to be adjusted.\n",
    "\n",
    "    Returns:\n",
    "        pd.DataFrame: The adjusted population data with a single \"85+\" category.\n",
    "    \"\"\"\n",
    "    # Sum the populations of the \"85-89\", \"90-94\", \"95-99\", and \"100+\" age groups into a new \"85+\" column\n",
    "    population_data.loc[:, '85+'] = population_data[['85-89', '90-94', '95-99', '100+']].sum(axis=1)\n",
    "\n",
    "    # Now, you can drop the now-unnecessary columns to clean up the DataFrame\n",
    "    population_data_adjusted = population_data.drop(columns=['85-89', '90-94', '95-99', '100+'])\n",
    "\n",
    "    return population_data_adjusted"
   ]
  },
  {
   "cell_type": "markdown",
   "id": "c7b8286f",
   "metadata": {},
   "source": [
    "run it on uganda and us"
   ]
  },
  {
   "cell_type": "code",
   "execution_count": 14,
   "id": "adff7bd9",
   "metadata": {},
   "outputs": [],
   "source": [
    "uganda_population_2019_adjusted = adjust_population_data(uganda_population_2019)\n",
    "us_population_2019_adjusted = adjust_population_data(us_population_2019)\n"
   ]
  },
  {
   "cell_type": "code",
   "execution_count": null,
   "id": "0ccff889",
   "metadata": {},
   "outputs": [],
   "source": [
    "\n",
    "print(uganda_population_2019_adjusted())\n",
    "print(us_population_2019_adjusted())"
   ]
  },
  {
   "cell_type": "markdown",
   "id": "fb235bf6",
   "metadata": {},
   "source": [
    "\n",
    "#### For Uganda:"
   ]
  },
  {
   "cell_type": "code",
   "execution_count": null,
   "id": "d1be8da9",
   "metadata": {},
   "outputs": [],
   "source": [
    "# Assuming copd_rates contains COPD deaths for each age group for Uganda and the US in 2019\n",
    "total_deaths_uganda = copd_rates['Death rate, Uganda, 2019'].sum()"
   ]
  },
  {
   "cell_type": "code",
   "execution_count": null,
   "id": "cad873e7",
   "metadata": {},
   "outputs": [],
   "source": [
    "\n",
    "total_population_uganda = uganda_population_2019.iloc[:, -16:].sum().sum()  # Summing the last 16 columns which represent age groups\n",
    "\n"
   ]
  }
 ],
 "metadata": {
  "kernelspec": {
   "display_name": "Python 3 (ipykernel)",
   "language": "python",
   "name": "python3"
  },
  "language_info": {
   "codemirror_mode": {
    "name": "ipython",
    "version": 3
   },
   "file_extension": ".py",
   "mimetype": "text/x-python",
   "name": "python",
   "nbconvert_exporter": "python",
   "pygments_lexer": "ipython3",
   "version": "3.11.3"
  }
 },
 "nbformat": 4,
 "nbformat_minor": 5
}
