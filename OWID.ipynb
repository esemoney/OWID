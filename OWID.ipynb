{
 "cells": [
  {
   "cell_type": "markdown",
   "id": "d68526d0",
   "metadata": {},
   "source": [
    "# Analyzing the Effects of COPD: A Comparative Study of the United States and Uganda\n",
    "\n",
    "## Introduction\n",
    "\n",
    "Chronic Obstructive Pulmonary Disease (COPD) is a progressive respiratory condition with a significant global health burden. Understanding its impact across countries is crucial for informing public health policies. This analysis compares the burden of COPD in the United States and Uganda by calculating crude and age-standardized death rates.\n",
    "\n",
    "The crude death rate is a basic measure of mortality, indicating the total number of COPD deaths per 100,000 population. However, it does not account for differences in population age structures, which can distort comparisons due to age being a primary COPD risk factor.\n",
    "\n",
    "Age-standardization addresses this limitation by calculating age-specific mortality rates and taking a weighted average using the World Health Organization's (WHO) standard population. This approach removes the influence of age distribution, enabling a fair comparison of COPD mortality risk between countries.\n",
    "\n",
    "By utilizing age-standardization, this analysis aims to assess whether the United States or Uganda exhibits a higher COPD mortality risk when age is not a confounding factor. This study leverages data from the UN World Population Prospects, WHO Standard Population, and age-specific COPD death rates for 2019.\n",
    "\n",
    "The objective is to calculate and compare the crude and age-standardized COPD death rates for the United States and Uganda, providing insights into the relative burden of COPD in each country while highlighting the importance of age-standardization in epidemiological analyses."
   ]
  },
  {
   "cell_type": "code",
   "execution_count": 3,
   "id": "774da238",
   "metadata": {},
   "outputs": [],
   "source": [
    "import pandas as pd\n",
    "\n",
    "import os\n"
   ]
  },
  {
   "cell_type": "code",
   "execution_count": 4,
   "id": "29a7c704",
   "metadata": {},
   "outputs": [],
   "source": [
    "# load data sources urls\n",
    "\n",
    "UN_POPULATION_PROSPECTS = 'input\\WPP2022_POPULATION_5-YEAR_AGE_GROUPS_BOTH_SEXES.xlsx'\n",
    "WHO_STANDARD_POPULATION_TABLE = 'input\\Table 1.xlsx'\n",
    "AGE_SPECIFIC_COPD_DEATH_RATES = 'input\\COPD_death_rates.xlsx'\n"
   ]
  },
  {
   "cell_type": "code",
   "execution_count": 10,
   "id": "1e57583c",
   "metadata": {},
   "outputs": [
    {
     "name": "stdout",
     "output_type": "stream",
     "text": [
      "TABLE: UN World Population Prospects:\n",
      "   Index    Variant Region, subregion, country or area * Notes  Location code  \\\n",
      "0      1  Estimates                                WORLD   NaN            900   \n",
      "1      2  Estimates                                WORLD   NaN            900   \n",
      "2      3  Estimates                                WORLD   NaN            900   \n",
      "3      4  Estimates                                WORLD   NaN            900   \n",
      "4      5  Estimates                                WORLD   NaN            900   \n",
      "\n",
      "  ISO3 Alpha-code ISO2 Alpha-code  SDMX code**   Type  Parent code  ...  \\\n",
      "0             NaN             NaN          1.0  World            0  ...   \n",
      "1             NaN             NaN          1.0  World            0  ...   \n",
      "2             NaN             NaN          1.0  World            0  ...   \n",
      "3             NaN             NaN          1.0  World            0  ...   \n",
      "4             NaN             NaN          1.0  World            0  ...   \n",
      "\n",
      "        55-59       60-64       65-69       70-74       75-79       80-84  \\\n",
      "0   85393.634  70796.6355   53122.984    36652.55   22440.709   10870.494   \n",
      "1  87045.7935  71417.9795   53923.774  37034.4615  22701.1225  10913.2255   \n",
      "2  89000.4945   71930.168  54969.3695  37521.5325   22937.171  11036.6195   \n",
      "3   91230.957  72475.1835   56236.375   38144.896  23140.1195   11245.749   \n",
      "4  93357.6225  73358.0965   57461.302   38867.149  23379.9635   11452.133   \n",
      "\n",
      "       85-89     90-94     95-99     100+  \n",
      "0   3977.119  969.3095  159.9325   14.469  \n",
      "1   3958.666  966.8275   147.466   15.671  \n",
      "2   3956.967  966.5605  144.5635  16.1695  \n",
      "3  3973.4965   972.536   144.159   16.048  \n",
      "4  4021.7115   982.418   145.427   15.426  \n",
      "\n",
      "[5 rows x 32 columns]\n",
      "\n",
      "TABLE: WHO Standard Population:\n",
      "  Age Group  Segi (\"world\") Standard  Scandinavian (\"European\") Standard  \\\n",
      "0       0-4                     12.0                                   8   \n",
      "1       5-9                     10.0                                   7   \n",
      "2     10-14                      9.0                                   7   \n",
      "3     15-19                      9.0                                   7   \n",
      "4     20-24                      8.0                                   7   \n",
      "\n",
      "   WHO World Standard*  \n",
      "0                 8.86  \n",
      "1                 8.69  \n",
      "2                 8.60  \n",
      "3                 8.47  \n",
      "4                 8.22  \n",
      "\n",
      "TABLE Age-specific COPD Death Rates:\n",
      "  Age group (years)  Death rate, United States, 2019  Death rate, Uganda, 2019\n",
      "0               0-4                             0.04                      0.40\n",
      "1               5-9                             0.02                      0.17\n",
      "2             10-14                             0.02                      0.07\n",
      "3             15-19                             0.02                      0.23\n",
      "4             20-24                             0.06                      0.38\n"
     ]
    }
   ],
   "source": [
    "# Load UN World Population Prospects data\n",
    "un_population = pd.read_excel(UN_POPULATION_PROSPECTS)\n",
    "print(\"TABLE: UN World Population Prospects:\")\n",
    "print(un_population.head())  # Display the first few rows\n",
    "\n",
    "\n",
    "# Load WHO Standard Population data\n",
    "who_standard = pd.read_excel(WHO_STANDARD_POPULATION_TABLE)\n",
    "print(\"\\nTABLE: WHO Standard Population:\")\n",
    "print(who_standard.head())\n",
    "\n",
    "# Load age-specific COPD death rates data\n",
    "copd_rates = pd.read_excel(AGE_SPECIFIC_COPD_DEATH_RATES)\n",
    "print(\"\\nTABLE Age-specific COPD Death Rates:\")\n",
    "print(copd_rates.head())\n"
   ]
  },
  {
   "cell_type": "code",
   "execution_count": null,
   "id": "3dfa1d37",
   "metadata": {},
   "outputs": [],
   "source": []
  }
 ],
 "metadata": {
  "kernelspec": {
   "display_name": "Python 3 (ipykernel)",
   "language": "python",
   "name": "python3"
  },
  "language_info": {
   "codemirror_mode": {
    "name": "ipython",
    "version": 3
   },
   "file_extension": ".py",
   "mimetype": "text/x-python",
   "name": "python",
   "nbconvert_exporter": "python",
   "pygments_lexer": "ipython3",
   "version": "3.11.3"
  }
 },
 "nbformat": 4,
 "nbformat_minor": 5
}
